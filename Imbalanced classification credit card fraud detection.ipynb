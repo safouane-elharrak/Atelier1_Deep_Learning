{
 "cells": [
  {
   "cell_type": "markdown",
   "id": "c8123bfc",
   "metadata": {},
   "source": [
    "# Imbalanced classification: credit card fraud detection"
   ]
  },
  {
   "cell_type": "code",
   "execution_count": 2,
   "id": "8510f79d",
   "metadata": {},
   "outputs": [],
   "source": [
    "import csv\n",
    "import numpy as np"
   ]
  },
  {
   "cell_type": "markdown",
   "id": "7745a30d",
   "metadata": {},
   "source": [
    "### get data from kaggle https://www.kaggle.com/mlg-ulb/creditcardfraud/"
   ]
  },
  {
   "cell_type": "code",
   "execution_count": 6,
   "id": "d504c433",
   "metadata": {},
   "outputs": [],
   "source": [
    "fname = \"C:/Users/Safouane Elh/Documents/MBD S3/Deep Learning/Atelier 1/creditcard.csv\""
   ]
  },
  {
   "cell_type": "markdown",
   "id": "78c7869e",
   "metadata": {},
   "source": [
    "## First, vectorize the CSV data\n"
   ]
  },
  {
   "cell_type": "code",
   "execution_count": 7,
   "id": "bf189fc1",
   "metadata": {},
   "outputs": [
    {
     "name": "stdout",
     "output_type": "stream",
     "text": [
      "HEADER: \"Time\",\"V1\",\"V2\",\"V3\",\"V4\",\"V5\",\"V6\",\"V7\",\"V8\",\"V9\",\"V10\",\"V11\",\"V12\",\"V13\",\"V14\",\"V15\",\"V16\",\"V17\",\"V18\",\"V19\",\"V20\",\"V21\",\"V22\",\"V23\",\"V24\",\"V25\",\"V26\",\"V27\",\"V28\",\"Amount\",\"Class\"\n",
      "EXAMPLE FEATURES: [0.0, -1.3598071336738, -0.0727811733098497, 2.53634673796914, 1.37815522427443, -0.338320769942518, 0.462387777762292, 0.239598554061257, 0.0986979012610507, 0.363786969611213, 0.0907941719789316, -0.551599533260813, -0.617800855762348, -0.991389847235408, -0.311169353699879, 1.46817697209427, -0.470400525259478, 0.207971241929242, 0.0257905801985591, 0.403992960255733, 0.251412098239705, -0.018306777944153, 0.277837575558899, -0.110473910188767, 0.0669280749146731, 0.128539358273528, -0.189114843888824, 0.133558376740387, -0.0210530534538215, 149.62]\n",
      "features.shape: (284807, 30)\n",
      "targets.shape: (284807, 1)\n"
     ]
    }
   ],
   "source": [
    "all_features = []\n",
    "all_targets = []\n",
    "with open(fname) as f:\n",
    "    for i, line in enumerate(f):\n",
    "        if i == 0:\n",
    "            print(\"HEADER:\", line.strip())\n",
    "            continue  # Skip header\n",
    "        fields = line.strip().split(\",\")\n",
    "        all_features.append([float(v.replace('\"', \"\")) for v in fields[:-1]])\n",
    "        all_targets.append([int(fields[-1].replace('\"', \"\"))])\n",
    "        if i == 1:\n",
    "            print(\"EXAMPLE FEATURES:\", all_features[-1])\n",
    "features = np.array(all_features, dtype=\"float32\")\n",
    "targets = np.array(all_targets, dtype=\"uint8\")\n",
    "print(\"features.shape:\", features.shape)\n",
    "print(\"targets.shape:\", targets.shape)   "
   ]
  },
  {
   "cell_type": "markdown",
   "id": "d1ef2b89",
   "metadata": {},
   "source": [
    "## Prepare a validation set\n",
    "\n"
   ]
  },
  {
   "cell_type": "code",
   "execution_count": 8,
   "id": "981c93b3",
   "metadata": {},
   "outputs": [
    {
     "name": "stdout",
     "output_type": "stream",
     "text": [
      "Number of training samples: 227846\n",
      "Number of validation samples: 56961\n"
     ]
    }
   ],
   "source": [
    "num_val_samples = int(len(features) * 0.2)\n",
    "train_features = features[:-num_val_samples]\n",
    "train_targets = targets[:-num_val_samples]\n",
    "val_features = features[-num_val_samples:]\n",
    "val_targets = targets[-num_val_samples:]\n",
    "\n",
    "print(\"Number of training samples:\", len(train_features))\n",
    "print(\"Number of validation samples:\", len(val_features))"
   ]
  },
  {
   "cell_type": "markdown",
   "id": "535caf0e",
   "metadata": {},
   "source": [
    "## Analyze class imbalance in the targets\n",
    "\n"
   ]
  },
  {
   "cell_type": "code",
   "execution_count": 9,
   "id": "fbe8fff3",
   "metadata": {},
   "outputs": [
    {
     "name": "stdout",
     "output_type": "stream",
     "text": [
      "Number of positive samples in training data: 417 (0.18% of total)\n"
     ]
    }
   ],
   "source": [
    "counts = np.bincount(train_targets[:, 0])\n",
    "print(\n",
    "    \"Number of positive samples in training data: {} ({:.2f}% of total)\".format(\n",
    "        counts[1], 100 * float(counts[1]) / len(train_targets)\n",
    "    )\n",
    ")\n",
    "\n",
    "weight_for_0 = 1.0 / counts[0]\n",
    "weight_for_1 = 1.0 / counts[1]"
   ]
  },
  {
   "cell_type": "markdown",
   "id": "3d71035d",
   "metadata": {},
   "source": [
    "## Normalize the data using training set statistics\n"
   ]
  },
  {
   "cell_type": "markdown",
   "id": "3462b785",
   "metadata": {},
   "source": [
    "### This improves the accuracy and integrity of our data, while making our database easier to navigate. "
   ]
  },
  {
   "cell_type": "code",
   "execution_count": 10,
   "id": "eab88dde",
   "metadata": {},
   "outputs": [],
   "source": [
    "mean = np.mean(train_features, axis=0)\n",
    "train_features -= mean\n",
    "val_features -= mean\n",
    "std = np.std(train_features, axis=0)\n",
    "train_features /= std\n",
    "val_features /= std"
   ]
  },
  {
   "cell_type": "markdown",
   "id": "1266e27b",
   "metadata": {},
   "source": [
    "## Build a binary classification model\n"
   ]
  },
  {
   "cell_type": "code",
   "execution_count": 11,
   "id": "9922523c",
   "metadata": {},
   "outputs": [
    {
     "name": "stdout",
     "output_type": "stream",
     "text": [
      "Model: \"sequential\"\n",
      "_________________________________________________________________\n",
      " Layer (type)                Output Shape              Param #   \n",
      "=================================================================\n",
      " dense (Dense)               (None, 256)               7936      \n",
      "                                                                 \n",
      " dense_1 (Dense)             (None, 256)               65792     \n",
      "                                                                 \n",
      " dropout (Dropout)           (None, 256)               0         \n",
      "                                                                 \n",
      " dense_2 (Dense)             (None, 256)               65792     \n",
      "                                                                 \n",
      " dropout_1 (Dropout)         (None, 256)               0         \n",
      "                                                                 \n",
      " dense_3 (Dense)             (None, 1)                 257       \n",
      "                                                                 \n",
      "=================================================================\n",
      "Total params: 139,777\n",
      "Trainable params: 139,777\n",
      "Non-trainable params: 0\n",
      "_________________________________________________________________\n"
     ]
    }
   ],
   "source": [
    "from tensorflow import keras\n",
    "\n",
    "model = keras.Sequential(\n",
    "    [\n",
    "        keras.layers.Dense(\n",
    "            256, activation=\"relu\", input_shape=(train_features.shape[-1],)\n",
    "        ),\n",
    "        keras.layers.Dense(256, activation=\"relu\"),\n",
    "        keras.layers.Dropout(0.3),\n",
    "        keras.layers.Dense(256, activation=\"relu\"),\n",
    "        keras.layers.Dropout(0.3),\n",
    "        keras.layers.Dense(1, activation=\"sigmoid\"),\n",
    "    ]\n",
    ")\n",
    "model.summary()"
   ]
  },
  {
   "cell_type": "markdown",
   "id": "7a1b4f91",
   "metadata": {},
   "source": [
    "## Train the model with class_weight argument  to adjust such setting\n"
   ]
  },
  {
   "cell_type": "code",
   "execution_count": 12,
   "id": "f267afaa",
   "metadata": {},
   "outputs": [
    {
     "name": "stdout",
     "output_type": "stream",
     "text": [
      "Epoch 1/30\n",
      "112/112 - 12s - loss: 2.4753e-06 - fn: 47.0000 - fp: 25521.0000 - tn: 201908.0000 - tp: 370.0000 - precision: 0.0143 - recall: 0.8873 - val_loss: 0.3125 - val_fn: 6.0000 - val_fp: 5240.0000 - val_tn: 51646.0000 - val_tp: 69.0000 - val_precision: 0.0130 - val_recall: 0.9200 - 12s/epoch - 112ms/step\n",
      "Epoch 2/30\n",
      "112/112 - 6s - loss: 1.4141e-06 - fn: 34.0000 - fp: 6628.0000 - tn: 220801.0000 - tp: 383.0000 - precision: 0.0546 - recall: 0.9185 - val_loss: 0.0425 - val_fn: 11.0000 - val_fp: 327.0000 - val_tn: 56559.0000 - val_tp: 64.0000 - val_precision: 0.1637 - val_recall: 0.8533 - 6s/epoch - 54ms/step\n",
      "Epoch 3/30\n",
      "112/112 - 6s - loss: 1.1416e-06 - fn: 34.0000 - fp: 6140.0000 - tn: 221289.0000 - tp: 383.0000 - precision: 0.0587 - recall: 0.9185 - val_loss: 0.0899 - val_fn: 9.0000 - val_fp: 1282.0000 - val_tn: 55604.0000 - val_tp: 66.0000 - val_precision: 0.0490 - val_recall: 0.8800 - 6s/epoch - 53ms/step\n",
      "Epoch 4/30\n",
      "112/112 - 6s - loss: 1.0708e-06 - fn: 21.0000 - fp: 7355.0000 - tn: 220074.0000 - tp: 396.0000 - precision: 0.0511 - recall: 0.9496 - val_loss: 0.0138 - val_fn: 16.0000 - val_fp: 83.0000 - val_tn: 56803.0000 - val_tp: 59.0000 - val_precision: 0.4155 - val_recall: 0.7867 - 6s/epoch - 50ms/step\n",
      "Epoch 5/30\n",
      "112/112 - 6s - loss: 1.0712e-06 - fn: 27.0000 - fp: 7520.0000 - tn: 219909.0000 - tp: 390.0000 - precision: 0.0493 - recall: 0.9353 - val_loss: 0.1902 - val_fn: 4.0000 - val_fp: 4288.0000 - val_tn: 52598.0000 - val_tp: 71.0000 - val_precision: 0.0163 - val_recall: 0.9467 - 6s/epoch - 52ms/step\n",
      "Epoch 6/30\n",
      "112/112 - 6s - loss: 1.1099e-06 - fn: 23.0000 - fp: 8105.0000 - tn: 219324.0000 - tp: 394.0000 - precision: 0.0464 - recall: 0.9448 - val_loss: 0.0635 - val_fn: 7.0000 - val_fp: 1281.0000 - val_tn: 55605.0000 - val_tp: 68.0000 - val_precision: 0.0504 - val_recall: 0.9067 - 6s/epoch - 50ms/step\n",
      "Epoch 7/30\n",
      "112/112 - 5s - loss: 2.0764e-06 - fn: 29.0000 - fp: 10342.0000 - tn: 217087.0000 - tp: 388.0000 - precision: 0.0362 - recall: 0.9305 - val_loss: 0.0801 - val_fn: 9.0000 - val_fp: 1403.0000 - val_tn: 55483.0000 - val_tp: 66.0000 - val_precision: 0.0449 - val_recall: 0.8800 - 5s/epoch - 49ms/step\n",
      "Epoch 8/30\n",
      "112/112 - 6s - loss: 1.0470e-06 - fn: 24.0000 - fp: 7845.0000 - tn: 219584.0000 - tp: 393.0000 - precision: 0.0477 - recall: 0.9424 - val_loss: 0.3111 - val_fn: 3.0000 - val_fp: 6188.0000 - val_tn: 50698.0000 - val_tp: 72.0000 - val_precision: 0.0115 - val_recall: 0.9600 - 6s/epoch - 54ms/step\n",
      "Epoch 9/30\n",
      "112/112 - 6s - loss: 8.6033e-07 - fn: 10.0000 - fp: 6644.0000 - tn: 220785.0000 - tp: 407.0000 - precision: 0.0577 - recall: 0.9760 - val_loss: 0.0256 - val_fn: 11.0000 - val_fp: 319.0000 - val_tn: 56567.0000 - val_tp: 64.0000 - val_precision: 0.1671 - val_recall: 0.8533 - 6s/epoch - 51ms/step\n",
      "Epoch 10/30\n",
      "112/112 - 6s - loss: 7.2852e-07 - fn: 17.0000 - fp: 6815.0000 - tn: 220614.0000 - tp: 400.0000 - precision: 0.0554 - recall: 0.9592 - val_loss: 0.0391 - val_fn: 7.0000 - val_fp: 697.0000 - val_tn: 56189.0000 - val_tp: 68.0000 - val_precision: 0.0889 - val_recall: 0.9067 - 6s/epoch - 52ms/step\n",
      "Epoch 11/30\n",
      "112/112 - 6s - loss: 4.5585e-07 - fn: 6.0000 - fp: 4465.0000 - tn: 222964.0000 - tp: 411.0000 - precision: 0.0843 - recall: 0.9856 - val_loss: 0.0643 - val_fn: 6.0000 - val_fp: 1431.0000 - val_tn: 55455.0000 - val_tp: 69.0000 - val_precision: 0.0460 - val_recall: 0.9200 - 6s/epoch - 52ms/step\n",
      "Epoch 12/30\n",
      "112/112 - 6s - loss: 4.7641e-07 - fn: 6.0000 - fp: 4859.0000 - tn: 222570.0000 - tp: 411.0000 - precision: 0.0780 - recall: 0.9856 - val_loss: 0.0268 - val_fn: 8.0000 - val_fp: 456.0000 - val_tn: 56430.0000 - val_tp: 67.0000 - val_precision: 0.1281 - val_recall: 0.8933 - 6s/epoch - 52ms/step\n",
      "Epoch 13/30\n",
      "112/112 - 6s - loss: 5.4719e-07 - fn: 11.0000 - fp: 5282.0000 - tn: 222147.0000 - tp: 406.0000 - precision: 0.0714 - recall: 0.9736 - val_loss: 0.0373 - val_fn: 8.0000 - val_fp: 663.0000 - val_tn: 56223.0000 - val_tp: 67.0000 - val_precision: 0.0918 - val_recall: 0.8933 - 6s/epoch - 51ms/step\n",
      "Epoch 14/30\n",
      "112/112 - 6s - loss: 4.8492e-07 - fn: 6.0000 - fp: 5735.0000 - tn: 221694.0000 - tp: 411.0000 - precision: 0.0669 - recall: 0.9856 - val_loss: 0.0505 - val_fn: 6.0000 - val_fp: 1486.0000 - val_tn: 55400.0000 - val_tp: 69.0000 - val_precision: 0.0444 - val_recall: 0.9200 - 6s/epoch - 51ms/step\n",
      "Epoch 15/30\n",
      "112/112 - 5s - loss: 3.1103e-07 - fn: 4.0000 - fp: 3644.0000 - tn: 223785.0000 - tp: 413.0000 - precision: 0.1018 - recall: 0.9904 - val_loss: 0.0207 - val_fn: 11.0000 - val_fp: 392.0000 - val_tn: 56494.0000 - val_tp: 64.0000 - val_precision: 0.1404 - val_recall: 0.8533 - 5s/epoch - 47ms/step\n",
      "Epoch 16/30\n",
      "112/112 - 6s - loss: 3.1418e-07 - fn: 5.0000 - fp: 3519.0000 - tn: 223910.0000 - tp: 412.0000 - precision: 0.1048 - recall: 0.9880 - val_loss: 0.1008 - val_fn: 7.0000 - val_fp: 1507.0000 - val_tn: 55379.0000 - val_tp: 68.0000 - val_precision: 0.0432 - val_recall: 0.9067 - 6s/epoch - 50ms/step\n",
      "Epoch 17/30\n",
      "112/112 - 6s - loss: 5.0730e-07 - fn: 5.0000 - fp: 5054.0000 - tn: 222375.0000 - tp: 412.0000 - precision: 0.0754 - recall: 0.9880 - val_loss: 0.0378 - val_fn: 8.0000 - val_fp: 768.0000 - val_tn: 56118.0000 - val_tp: 67.0000 - val_precision: 0.0802 - val_recall: 0.8933 - 6s/epoch - 53ms/step\n",
      "Epoch 18/30\n",
      "112/112 - 5s - loss: 7.6892e-07 - fn: 10.0000 - fp: 8333.0000 - tn: 219096.0000 - tp: 407.0000 - precision: 0.0466 - recall: 0.9760 - val_loss: 0.0740 - val_fn: 8.0000 - val_fp: 1609.0000 - val_tn: 55277.0000 - val_tp: 67.0000 - val_precision: 0.0400 - val_recall: 0.8933 - 5s/epoch - 47ms/step\n",
      "Epoch 19/30\n",
      "112/112 - 6s - loss: 4.3089e-07 - fn: 8.0000 - fp: 4271.0000 - tn: 223158.0000 - tp: 409.0000 - precision: 0.0874 - recall: 0.9808 - val_loss: 0.0752 - val_fn: 6.0000 - val_fp: 1692.0000 - val_tn: 55194.0000 - val_tp: 69.0000 - val_precision: 0.0392 - val_recall: 0.9200 - 6s/epoch - 49ms/step\n",
      "Epoch 20/30\n",
      "112/112 - 6s - loss: 3.1086e-07 - fn: 4.0000 - fp: 3521.0000 - tn: 223908.0000 - tp: 413.0000 - precision: 0.1050 - recall: 0.9904 - val_loss: 0.0176 - val_fn: 9.0000 - val_fp: 338.0000 - val_tn: 56548.0000 - val_tp: 66.0000 - val_precision: 0.1634 - val_recall: 0.8800 - 6s/epoch - 53ms/step\n",
      "Epoch 21/30\n",
      "112/112 - 5s - loss: 5.4705e-07 - fn: 7.0000 - fp: 4513.0000 - tn: 222916.0000 - tp: 410.0000 - precision: 0.0833 - recall: 0.9832 - val_loss: 0.0622 - val_fn: 10.0000 - val_fp: 1463.0000 - val_tn: 55423.0000 - val_tp: 65.0000 - val_precision: 0.0425 - val_recall: 0.8667 - 5s/epoch - 47ms/step\n",
      "Epoch 22/30\n",
      "112/112 - 6s - loss: 3.3720e-07 - fn: 3.0000 - fp: 3424.0000 - tn: 224005.0000 - tp: 414.0000 - precision: 0.1079 - recall: 0.9928 - val_loss: 0.0424 - val_fn: 9.0000 - val_fp: 1073.0000 - val_tn: 55813.0000 - val_tp: 66.0000 - val_precision: 0.0579 - val_recall: 0.8800 - 6s/epoch - 52ms/step\n",
      "Epoch 23/30\n",
      "112/112 - 6s - loss: 3.7823e-07 - fn: 4.0000 - fp: 4502.0000 - tn: 222927.0000 - tp: 413.0000 - precision: 0.0840 - recall: 0.9904 - val_loss: 0.0140 - val_fn: 11.0000 - val_fp: 301.0000 - val_tn: 56585.0000 - val_tp: 64.0000 - val_precision: 0.1753 - val_recall: 0.8533 - 6s/epoch - 50ms/step\n",
      "Epoch 24/30\n",
      "112/112 - 6s - loss: 1.8665e-07 - fn: 1.0000 - fp: 1995.0000 - tn: 225434.0000 - tp: 416.0000 - precision: 0.1725 - recall: 0.9976 - val_loss: 0.0102 - val_fn: 12.0000 - val_fp: 193.0000 - val_tn: 56693.0000 - val_tp: 63.0000 - val_precision: 0.2461 - val_recall: 0.8400 - 6s/epoch - 50ms/step\n",
      "Epoch 25/30\n",
      "112/112 - 6s - loss: 3.1304e-07 - fn: 4.0000 - fp: 3326.0000 - tn: 224103.0000 - tp: 413.0000 - precision: 0.1105 - recall: 0.9904 - val_loss: 0.0418 - val_fn: 7.0000 - val_fp: 933.0000 - val_tn: 55953.0000 - val_tp: 68.0000 - val_precision: 0.0679 - val_recall: 0.9067 - 6s/epoch - 50ms/step\n",
      "Epoch 26/30\n",
      "112/112 - 5s - loss: 4.5160e-07 - fn: 2.0000 - fp: 5483.0000 - tn: 221946.0000 - tp: 415.0000 - precision: 0.0704 - recall: 0.9952 - val_loss: 0.0161 - val_fn: 10.0000 - val_fp: 325.0000 - val_tn: 56561.0000 - val_tp: 65.0000 - val_precision: 0.1667 - val_recall: 0.8667 - 5s/epoch - 49ms/step\n",
      "Epoch 27/30\n",
      "112/112 - 6s - loss: 1.9975e-07 - fn: 2.0000 - fp: 2352.0000 - tn: 225077.0000 - tp: 415.0000 - precision: 0.1500 - recall: 0.9952 - val_loss: 0.0107 - val_fn: 11.0000 - val_fp: 151.0000 - val_tn: 56735.0000 - val_tp: 64.0000 - val_precision: 0.2977 - val_recall: 0.8533 - 6s/epoch - 50ms/step\n"
     ]
    },
    {
     "name": "stdout",
     "output_type": "stream",
     "text": [
      "Epoch 28/30\n",
      "112/112 - 6s - loss: 3.3506e-07 - fn: 3.0000 - fp: 2810.0000 - tn: 224619.0000 - tp: 414.0000 - precision: 0.1284 - recall: 0.9928 - val_loss: 0.1155 - val_fn: 5.0000 - val_fp: 2667.0000 - val_tn: 54219.0000 - val_tp: 70.0000 - val_precision: 0.0256 - val_recall: 0.9333 - 6s/epoch - 51ms/step\n",
      "Epoch 29/30\n",
      "112/112 - 6s - loss: 3.0571e-07 - fn: 2.0000 - fp: 3534.0000 - tn: 223895.0000 - tp: 415.0000 - precision: 0.1051 - recall: 0.9952 - val_loss: 0.0212 - val_fn: 8.0000 - val_fp: 406.0000 - val_tn: 56480.0000 - val_tp: 67.0000 - val_precision: 0.1416 - val_recall: 0.8933 - 6s/epoch - 52ms/step\n",
      "Epoch 30/30\n",
      "112/112 - 6s - loss: 2.2508e-07 - fn: 3.0000 - fp: 2746.0000 - tn: 224683.0000 - tp: 414.0000 - precision: 0.1310 - recall: 0.9928 - val_loss: 0.0132 - val_fn: 12.0000 - val_fp: 207.0000 - val_tn: 56679.0000 - val_tp: 63.0000 - val_precision: 0.2333 - val_recall: 0.8400 - 6s/epoch - 50ms/step\n"
     ]
    },
    {
     "data": {
      "text/plain": [
       "<keras.callbacks.History at 0x2582185daf0>"
      ]
     },
     "execution_count": 12,
     "metadata": {},
     "output_type": "execute_result"
    }
   ],
   "source": [
    "metrics = [\n",
    "    keras.metrics.FalseNegatives(name=\"fn\"),\n",
    "    keras.metrics.FalsePositives(name=\"fp\"),\n",
    "    keras.metrics.TrueNegatives(name=\"tn\"),\n",
    "    keras.metrics.TruePositives(name=\"tp\"),\n",
    "    keras.metrics.Precision(name=\"precision\"),\n",
    "    keras.metrics.Recall(name=\"recall\"),\n",
    "]\n",
    "\n",
    "model.compile(\n",
    "    optimizer=keras.optimizers.Adam(1e-2), loss=\"binary_crossentropy\", metrics=metrics\n",
    ")\n",
    "\n",
    "callbacks = [keras.callbacks.ModelCheckpoint(\"fraud_model_at_epoch_{epoch}.h5\")]\n",
    "class_weight = {0: weight_for_0, 1: weight_for_1}\n",
    "\n",
    "model.fit(\n",
    "    train_features,\n",
    "    train_targets,\n",
    "    batch_size=2048,\n",
    "    epochs=30,\n",
    "    verbose=2,\n",
    "    callbacks=callbacks,\n",
    "    validation_data=(val_features, val_targets),\n",
    "    class_weight=class_weight,\n",
    ")"
   ]
  },
  {
   "cell_type": "markdown",
   "id": "46412e8f",
   "metadata": {},
   "source": [
    "## Conclusion\n",
    "At the end of training, out of 56,961 validation transactions, we are:\n",
    "\n",
    "I see how we can correctly identifying 66 of them as fraudulent\n",
    "Missing 9 fraudulent transactions\n",
    "At the cost of incorrectly flagging 441 legitimate transactions"
   ]
  },
  {
   "cell_type": "code",
   "execution_count": null,
   "id": "4841c2f3",
   "metadata": {},
   "outputs": [],
   "source": []
  }
 ],
 "metadata": {
  "kernelspec": {
   "display_name": "Python 3 (ipykernel)",
   "language": "python",
   "name": "python3"
  },
  "language_info": {
   "codemirror_mode": {
    "name": "ipython",
    "version": 3
   },
   "file_extension": ".py",
   "mimetype": "text/x-python",
   "name": "python",
   "nbconvert_exporter": "python",
   "pygments_lexer": "ipython3",
   "version": "3.9.12"
  }
 },
 "nbformat": 4,
 "nbformat_minor": 5
}
